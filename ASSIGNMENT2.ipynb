{
 "cells": [
  {
   "cell_type": "code",
   "execution_count": 1,
   "id": "dd6c64e0",
   "metadata": {},
   "outputs": [
    {
     "data": {
      "text/plain": [
       "True"
      ]
     },
     "execution_count": 1,
     "metadata": {},
     "output_type": "execute_result"
    }
   ],
   "source": [
    "##1.What are the two values of the Boolean data type? How do you write them?\n",
    "##ANSWER-\n",
    "True and False\n",
    "50==50\n"
   ]
  },
  {
   "cell_type": "code",
   "execution_count": 2,
   "id": "6dd9aecd",
   "metadata": {},
   "outputs": [
    {
     "data": {
      "text/plain": [
       "False"
      ]
     },
     "execution_count": 2,
     "metadata": {},
     "output_type": "execute_result"
    }
   ],
   "source": [
    "50==25"
   ]
  },
  {
   "cell_type": "code",
   "execution_count": 3,
   "id": "8f9e4ee4",
   "metadata": {},
   "outputs": [],
   "source": [
    "##2. What are the three different types of Boolean operators?\n",
    "##answer-AND, OR, and NOT"
   ]
  },
  {
   "cell_type": "code",
   "execution_count": 4,
   "id": "9288082c",
   "metadata": {},
   "outputs": [],
   "source": [
    "##3. Make a list of each Boolean operators truth tables (i.e. every possible combination of Boolean values for the operator and what it evaluate ).\n",
    "#True and True is True.\n",
    "#True and False is False.\n",
    "#False and True is False.\n",
    "#False and False is False.\n",
    "#True or True is True.\n",
    "#True or False is True.\n",
    "#False or True is True.\n",
    "#False or False is False.\n",
    "#not True is False.\n",
    "#not False is True"
   ]
  },
  {
   "cell_type": "code",
   "execution_count": 5,
   "id": "2738dbde",
   "metadata": {},
   "outputs": [
    {
     "data": {
      "text/plain": [
       "False"
      ]
     },
     "execution_count": 5,
     "metadata": {},
     "output_type": "execute_result"
    }
   ],
   "source": [
    "##4. What are the values of the following expressions?\n",
    "(5>4) and (3 == 5)"
   ]
  },
  {
   "cell_type": "code",
   "execution_count": 6,
   "id": "f7d267c6",
   "metadata": {},
   "outputs": [
    {
     "data": {
      "text/plain": [
       "False"
      ]
     },
     "execution_count": 6,
     "metadata": {},
     "output_type": "execute_result"
    }
   ],
   "source": [
    "not (5> 4)"
   ]
  },
  {
   "cell_type": "code",
   "execution_count": 7,
   "id": "45dfdc3e",
   "metadata": {},
   "outputs": [
    {
     "data": {
      "text/plain": [
       "True"
      ]
     },
     "execution_count": 7,
     "metadata": {},
     "output_type": "execute_result"
    }
   ],
   "source": [
    "(5> 4) or (3 == 5)"
   ]
  },
  {
   "cell_type": "code",
   "execution_count": 8,
   "id": "2552bc76",
   "metadata": {},
   "outputs": [
    {
     "data": {
      "text/plain": [
       "False"
      ]
     },
     "execution_count": 8,
     "metadata": {},
     "output_type": "execute_result"
    }
   ],
   "source": [
    "not ((5 > 4) or (3 == 5))"
   ]
  },
  {
   "cell_type": "code",
   "execution_count": 9,
   "id": "76889335",
   "metadata": {},
   "outputs": [
    {
     "data": {
      "text/plain": [
       "False"
      ]
     },
     "execution_count": 9,
     "metadata": {},
     "output_type": "execute_result"
    }
   ],
   "source": [
    "(True and True) and (True == False)"
   ]
  },
  {
   "cell_type": "code",
   "execution_count": 10,
   "id": "cadeb96d",
   "metadata": {},
   "outputs": [
    {
     "data": {
      "text/plain": [
       "True"
      ]
     },
     "execution_count": 10,
     "metadata": {},
     "output_type": "execute_result"
    }
   ],
   "source": [
    "(not False) or (not True)"
   ]
  },
  {
   "cell_type": "code",
   "execution_count": 11,
   "id": "30c1c055",
   "metadata": {},
   "outputs": [],
   "source": [
    "##5. What are the six comparison operators?\n",
    "##Answer-equal to, not equal to, greater than, greater than or equal to, less than, and less than or equal to."
   ]
  },
  {
   "cell_type": "code",
   "execution_count": 12,
   "id": "ce60d3bc",
   "metadata": {},
   "outputs": [],
   "source": [
    "##6. How do you tell the difference between the equal to and assignment operators?Describe a condition and when you would use one.\n",
    "#ANSWER-The “=” is an assignment operator is used to assign the value on the right to the variable on the left. The '==' operator checks whether the two given operands are equal or not\n"
   ]
  },
  {
   "cell_type": "code",
   "execution_count": 13,
   "id": "8eee4f36",
   "metadata": {},
   "outputs": [
    {
     "name": "stdout",
     "output_type": "stream",
     "text": [
      "ham\n",
      "spam\n",
      "spam\n"
     ]
    }
   ],
   "source": [
    "##7\n",
    "spam = 0\n",
    "if spam == 10:\n",
    "    print(\"eggs\")\n",
    "    if spam > 5:\n",
    "        print(\"bacon\")\n",
    "else:\n",
    "    print(\"ham\")\n",
    "    print(\"spam\")\n",
    "    print(\"spam\")"
   ]
  },
  {
   "cell_type": "code",
   "execution_count": null,
   "id": "5171cced",
   "metadata": {},
   "outputs": [],
   "source": [
    "##8-Write code that prints Hello if 1 is stored in spam, prints Howdy if 2 is stored in spam, and prints Greetings! if anything else is stored in spam.\n",
    "spam =int(input(\"Enter a value less than 5\"))\n",
    "if spam == 1:\n",
    "    print(\"Hello\")\n",
    "elif spam == 2:\n",
    "        print(\"Howdy\")\n",
    "else:\n",
    "    print(\"Greetings\")\n",
    "      "
   ]
  },
  {
   "cell_type": "code",
   "execution_count": null,
   "id": "e6ef092f",
   "metadata": {},
   "outputs": [],
   "source": [
    "##9.If your programme is stuck in an endless loop, what keys you’ll press?\n",
    "##ANSWER-Ctrl+C"
   ]
  },
  {
   "cell_type": "code",
   "execution_count": null,
   "id": "c51df7d6",
   "metadata": {},
   "outputs": [],
   "source": [
    "#10. How can you tell the difference between break and continue?\n",
    "#ANSWER-BREAK will break the the loop if the criteria met.CONTINUE statement skips a single iteration in a loop.\n"
   ]
  },
  {
   "cell_type": "code",
   "execution_count": null,
   "id": "6443cb34",
   "metadata": {},
   "outputs": [],
   "source": [
    "#In a for loop, what is the difference between range(10), range(0, 10), and range(0, 10, 1)?\n",
    "##ANSWER- NO DIFFERENCE.\n"
   ]
  },
  {
   "cell_type": "code",
   "execution_count": null,
   "id": "7bce037e",
   "metadata": {},
   "outputs": [],
   "source": [
    "#12. Write a short program that prints the numbers 1 to 10 using a for loop. Then write an equivalent program that prints the numbers 1 to 10 using a while loop.\n",
    "\n",
    "for i in range(1-11):\n",
    "    print(i)\n",
    "    \n"
   ]
  },
  {
   "cell_type": "code",
   "execution_count": null,
   "id": "4b86f252",
   "metadata": {},
   "outputs": [],
   "source": [
    "i = 1\n",
    "while(i<=10):\n",
    "    print(i)\n",
    "    i += 1"
   ]
  },
  {
   "cell_type": "code",
   "execution_count": null,
   "id": "70b26f25",
   "metadata": {},
   "outputs": [],
   "source": [
    "#13. If you had a function named bacon() inside a module named spam, how would you call it after importing spam?\n",
    "#ANSWER-spam.bacon()"
   ]
  }
 ],
 "metadata": {
  "kernelspec": {
   "display_name": "Python 3 (ipykernel)",
   "language": "python",
   "name": "python3"
  },
  "language_info": {
   "codemirror_mode": {
    "name": "ipython",
    "version": 3
   },
   "file_extension": ".py",
   "mimetype": "text/x-python",
   "name": "python",
   "nbconvert_exporter": "python",
   "pygments_lexer": "ipython3",
   "version": "3.9.7"
  }
 },
 "nbformat": 4,
 "nbformat_minor": 5
}
